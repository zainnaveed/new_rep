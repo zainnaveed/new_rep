{
    "cells": [
        {
            "cell_type": "markdown",
            "metadata": {
                "collapsed": true
            },
            "source": "My Jupyter Notebook on IBM Watson Studio"
        },
        {
            "cell_type": "markdown",
            "metadata": {},
            "source": "#### Name: ZAIN\ndesired occupation: Data-Scientist\n"
        },
        {
            "cell_type": "markdown",
            "metadata": {},
            "source": "*I am interested in data science because data is the essence of future innovations and technologies and hence grasp on it is a must*\n"
        },
        {
            "cell_type": "markdown",
            "metadata": {},
            "source": "#### below code sum two digits"
        },
        {
            "cell_type": "code",
            "execution_count": 2,
            "metadata": {},
            "outputs": [
                {
                    "name": "stdout",
                    "output_type": "stream",
                    "text": "3\n"
                }
            ],
            "source": "print(1+2)"
        },
        {
            "cell_type": "markdown",
            "metadata": {},
            "source": " <hr>\n    <p>This is a horizontal rule above this paragraph.</p>\n    \n 1. obj1\n 2. obj2\n 3. obj3\n \n \n | Stretch/Untouched | ProbDistribution | Accuracy |\n| --- | --- | --- |\n| Stretched | Gaussian | .843 |\n\n\n\n[yellow_link](https://www.w3schools.com/html/html_basic.asp)"
        },
        {
            "cell_type": "code",
            "execution_count": null,
            "metadata": {},
            "outputs": [],
            "source": ""
        }
    ],
    "metadata": {
        "kernelspec": {
            "display_name": "Python 3.9",
            "language": "python",
            "name": "python3"
        },
        "language_info": {
            "codemirror_mode": {
                "name": "ipython",
                "version": 3
            },
            "file_extension": ".py",
            "mimetype": "text/x-python",
            "name": "python",
            "nbconvert_exporter": "python",
            "pygments_lexer": "ipython3",
            "version": "3.9.12"
        }
    },
    "nbformat": 4,
    "nbformat_minor": 1
}